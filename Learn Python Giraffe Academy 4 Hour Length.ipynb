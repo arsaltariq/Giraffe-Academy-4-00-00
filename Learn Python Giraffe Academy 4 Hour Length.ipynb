{
 "cells": [
  {
   "cell_type": "code",
   "execution_count": 2,
   "metadata": {},
   "outputs": [],
   "source": [
    "#Learn Python Full Course For Beginners \n",
    "#Giraffe Academy "
   ]
  },
  {
   "cell_type": "code",
   "execution_count": 7,
   "metadata": {},
   "outputs": [
    {
     "name": "stdout",
     "output_type": "stream",
     "text": [
      "Enter first number: 2\n",
      "Enter second number: 2\n",
      "Enter Operator: +\n",
      "4.0\n"
     ]
    }
   ],
   "source": [
    "#Building a basic calculator (If Statements)\n",
    "\n",
    "num1 = float(input(\"Enter first number: \"))\n",
    "num2 = float(input(\"Enter second number: \"))\n",
    "op = input(\"Enter Operator: \")\n",
    "\n",
    "if op == \"+\":\n",
    "    print(num1 + num2)\n",
    "elif op == \"-\":\n",
    "    print(num1 - num2)\n",
    "elif op == \"/\":\n",
    "    print(num1 / num2)\n",
    "elif op == \"*\":\n",
    "    print(num1 * num2)\n",
    "else:\n",
    "    print(\"Syntax Error\")"
   ]
  },
  {
   "cell_type": "code",
   "execution_count": 8,
   "metadata": {},
   "outputs": [
    {
     "name": "stdout",
     "output_type": "stream",
     "text": [
      "November\n",
      "January\n"
     ]
    }
   ],
   "source": [
    "#Dictionaries\n",
    "#Keys Should be UNIQUE\n",
    "\n",
    "monthConversions = {\n",
    "    \"Jan\" : \"January\",\n",
    "    \"Feb\" : \"Febuary\",\n",
    "    \"Mar\" : \"March\",\n",
    "    \"Apr\" : \"April\",\n",
    "    \"May\" : \"May\",\n",
    "    \"Jun\" : \"June\",\n",
    "    \"Jul\" : \"July\",\n",
    "    \"Aug\" : \"August\",\n",
    "    \"Sep\" : \"September\",\n",
    "    \"Oct\" : \"October\",\n",
    "    \"Nov\" : \"November\",\n",
    "    \"Dec\" : \"December\"\n",
    "}\n",
    "\n",
    "print(monthConversions[\"Nov\"])\n",
    "print(monthConversions[\"Jan\"])"
   ]
  },
  {
   "cell_type": "code",
   "execution_count": 1,
   "metadata": {},
   "outputs": [
    {
     "name": "stdout",
     "output_type": "stream",
     "text": [
      "False\n",
      "Jim\n",
      "Business\n",
      "3.1\n",
      "\n",
      "True\n",
      "Arsal\n",
      "Accounting\n",
      "2.5\n"
     ]
    }
   ],
   "source": [
    "#Classes (Student)\n",
    "\n",
    "class Student:\n",
    "    \n",
    "    def __init__(self, name, major, gpa, is_on_probation):\n",
    "        self.name = name\n",
    "        self.major = major\n",
    "        self.gpa = gpa\n",
    "        self.is_on_probation = is_on_probation\n",
    "        \n",
    "student1 = Student(\"Jim\", \"Business\", 3.1, False)\n",
    "student2 = Student(\"Arsal\", \"Accounting\", 2.5, True)\n",
    "\n",
    "print(student1.is_on_probation)\n",
    "print(student1.name)\n",
    "print(student1.major)\n",
    "print(student1.gpa)\n",
    "print()\n",
    "print(student2.is_on_probation)\n",
    "print(student2.name)\n",
    "print(student2.major)\n",
    "print(student2.gpa)"
   ]
  },
  {
   "cell_type": "code",
   "execution_count": 2,
   "metadata": {},
   "outputs": [
    {
     "name": "stdout",
     "output_type": "stream",
     "text": [
      "   /|\n",
      "  / |\n",
      " /  |\n",
      "/___|\n"
     ]
    }
   ],
   "source": [
    "#Drawing simple triangle \n",
    "\n",
    "print(\"   /|\")\n",
    "print(\"  / |\")\n",
    "print(\" /  |\")\n",
    "print(\"/___|\")"
   ]
  },
  {
   "cell_type": "code",
   "execution_count": 7,
   "metadata": {},
   "outputs": [
    {
     "name": "stdout",
     "output_type": "stream",
     "text": [
      "15\n",
      "GIRAFFE ACADEMY\n",
      "giraffe academy\n",
      "Giraffe Academy\n",
      "G\n",
      "A\n",
      "0\n",
      "8\n",
      "Code Academy\n"
     ]
    }
   ],
   "source": [
    "#Variables and some functions on string datatype.\n",
    "\n",
    "phrase = \"Giraffe Academy\"\n",
    "\n",
    "print(len(phrase))\n",
    "print(phrase.upper())\n",
    "print(phrase.lower())\n",
    "print(phrase.title())\n",
    "print(phrase[0])\n",
    "print(phrase[8])\n",
    "print(phrase.index(\"G\"))\n",
    "print(phrase.index(\"A\"))\n",
    "print(phrase.replace(\"Giraffe\", \"Code\"))\n"
   ]
  },
  {
   "cell_type": "code",
   "execution_count": 14,
   "metadata": {},
   "outputs": [
    {
     "name": "stdout",
     "output_type": "stream",
     "text": [
      "-5\n",
      "5\n",
      "27.0\n",
      "480\n",
      "479\n",
      "4\n",
      "3\n",
      "3\n",
      "4\n",
      "6.0\n"
     ]
    }
   ],
   "source": [
    "#Working with numbers\n",
    "\n",
    "from math import *\n",
    "\n",
    "my_num =-5\n",
    "\n",
    "print(my_num)\n",
    "print(abs(my_num))     #Absolute value\n",
    "print(pow(3,3))        #Raise to power\n",
    "print(max(480,479))    #Maximum number\n",
    "print(min(480,479))    #Minimum number\n",
    "print(round(3.7))      #Rounding off\n",
    "print(round(3.2))\n",
    "print(floor(3.7))\n",
    "print(ceil(3.7))\n",
    "print(sqrt(36))"
   ]
  },
  {
   "cell_type": "code",
   "execution_count": 18,
   "metadata": {},
   "outputs": [
    {
     "name": "stdout",
     "output_type": "stream",
     "text": [
      "Enter your name: Arsal \n",
      "Enter your age: 18\n",
      "Hello Arsal ! You are 18\n"
     ]
    }
   ],
   "source": [
    "#Getting input from the user\n",
    "\n",
    "name = input(\"Enter your name: \")\n",
    "age = input(\"Enter your age: \")\n",
    "print(\"Hello \" + name + \"! You are \" + age)"
   ]
  },
  {
   "cell_type": "code",
   "execution_count": 20,
   "metadata": {},
   "outputs": [
    {
     "name": "stdout",
     "output_type": "stream",
     "text": [
      "Enter a color: Magenta\n",
      "Enter a plural noun: Microwaves\n",
      "Enter a celebrity: Tom Hanks\n",
      "Roses are Magenta\n",
      "Microwaves are blue\n",
      "I love Tom Hanks\n"
     ]
    }
   ],
   "source": [
    "#Mad libs game\n",
    "\n",
    "color = input(\"Enter a color: \")\n",
    "plural_noun = input(\"Enter a plural noun: \")\n",
    "celebrity = input(\"Enter a celebrity: \")\n",
    "\n",
    "print(\"Roses are \" + color)\n",
    "print(plural_noun + \" are blue\")\n",
    "print(\"I love \" + celebrity)"
   ]
  },
  {
   "cell_type": "code",
   "execution_count": 3,
   "metadata": {},
   "outputs": [
    {
     "name": "stdout",
     "output_type": "stream",
     "text": [
      "['Karen', 'Jim', 'John']\n",
      "['Karen', 'Jim', 'John', 'Mike']\n",
      "['Karen', 'Arsal', 'Jim', 'John', 'Mike']\n",
      "['Arsal', 'Jim', 'John', 'Mike']\n",
      "['Arsal', 'Jim', 'John']\n",
      "['Arsal', 'Jim', 'John']\n",
      "['Arsal', 'Jim', 'John']\n"
     ]
    }
   ],
   "source": [
    "#List functions\n",
    "\n",
    "friends = [\"Karen\", \"Jim\", \"John\"]\n",
    "print(friends)\n",
    "friends.append(\"Mike\")        #Adding element to the end of the list\n",
    "print(friends) \n",
    "friends.insert(1, \"Arsal\")    #By using Insert function you can add elements at any index value \n",
    "print(friends)\n",
    "friends.remove(\"Karen\")       #Remove elements\n",
    "print(friends)\n",
    "friends.pop()                 #Removes last element in a list \n",
    "print(friends)\n",
    "friends.sort()\n",
    "print(friends)\n",
    "friends2 = friends.copy()\n",
    "print(friends2)"
   ]
  },
  {
   "cell_type": "code",
   "execution_count": 4,
   "metadata": {},
   "outputs": [
    {
     "name": "stdout",
     "output_type": "stream",
     "text": [
      "5\n"
     ]
    }
   ],
   "source": [
    "#Tuples\n",
    "\n",
    "coordinates = (4, 5)\n",
    "print(coordinates[1])     #You can access elements in a tuple but can't alter elements "
   ]
  },
  {
   "cell_type": "code",
   "execution_count": 9,
   "metadata": {},
   "outputs": [
    {
     "name": "stdout",
     "output_type": "stream",
     "text": [
      "HelloArsal \n",
      "None\n",
      "HelloMike \n",
      "None\n",
      "64\n",
      "27\n"
     ]
    }
   ],
   "source": [
    "#Functions\n",
    "\n",
    "def say_hi(name):\n",
    "    print(\"Hello\" + name)\n",
    "\n",
    "print(say_hi(\"Arsal \"))\n",
    "print(say_hi(\"Mike \"))\n",
    "\n",
    "#Return Statements\n",
    "\n",
    "def cube(num):\n",
    "    return num * num * num\n",
    "\n",
    "print(cube(4))\n",
    "print(cube(3))"
   ]
  },
  {
   "cell_type": "code",
   "execution_count": 11,
   "metadata": {},
   "outputs": [
    {
     "name": "stdout",
     "output_type": "stream",
     "text": [
      "22\n",
      "420\n",
      "4.33\n"
     ]
    }
   ],
   "source": [
    "#If statements and comparisons:\n",
    "#Function for finding the maximum number\n",
    "\n",
    "def max_num(num1, num2, num3):\n",
    "    if num1 >= num2 and num1 >= num3:\n",
    "        return num1\n",
    "    elif num2 >= num1 and num2 >= num3:\n",
    "        return num2\n",
    "    else:\n",
    "        return num3\n",
    "\n",
    "print(max_num(20, 22, 21))\n",
    "print(max_num(420, 220, 321))\n",
    "print(max_num(0.0029, 4.33, 0.25))\n"
   ]
  },
  {
   "cell_type": "code",
   "execution_count": 2,
   "metadata": {},
   "outputs": [
    {
     "name": "stdout",
     "output_type": "stream",
     "text": [
      "1\n",
      "2\n",
      "3\n",
      "4\n",
      "5\n",
      "6\n",
      "7\n",
      "8\n",
      "9\n",
      "10\n",
      "End of loop! \n"
     ]
    }
   ],
   "source": [
    "#While Loop\n",
    "\n",
    "i = 1\n",
    "while i <= 10:\n",
    "    print(i)\n",
    "    i+=1\n",
    "print(\"End of loop! \")"
   ]
  },
  {
   "cell_type": "code",
   "execution_count": 4,
   "metadata": {},
   "outputs": [
    {
     "name": "stdout",
     "output_type": "stream",
     "text": [
      "Enter Guess: animal\n",
      "Enter Guess: card\n",
      "Enter Guess: giraffe\n",
      "You Win!\n"
     ]
    }
   ],
   "source": [
    "#Building a Guessing Game!\n",
    "\n",
    "secret_word = \"giraffe\"\n",
    "guess = \"\"\n",
    "guess_count = 0\n",
    "guess_limit = 3\n",
    "out_of_guesses = False \n",
    "\n",
    "while guess != secret_word and not(out_of_guesses):\n",
    "    if guess_count < guess_limit:\n",
    "        guess = input(\"Enter Guess: \")\n",
    "        guess_count += 1\n",
    "    else: \n",
    "        out_of_guesses = True\n",
    "        \n",
    "if out_of_guesses:\n",
    "    print(\"Out Of Guesses You Lose! \")\n",
    "else:   \n",
    "    print(\"You Win!\")"
   ]
  },
  {
   "cell_type": "code",
   "execution_count": 5,
   "metadata": {},
   "outputs": [
    {
     "name": "stdout",
     "output_type": "stream",
     "text": [
      "G\n",
      "i\n",
      "r\n",
      "a\n",
      "f\n",
      "f\n",
      "e\n",
      " \n",
      "A\n",
      "c\n",
      "a\n",
      "d\n",
      "e\n",
      "m\n",
      "y\n"
     ]
    }
   ],
   "source": [
    "#For loop:\n",
    "\n",
    "for letter in \"Giraffe Academy\":\n",
    "    print(letter)"
   ]
  },
  {
   "cell_type": "code",
   "execution_count": 6,
   "metadata": {},
   "outputs": [
    {
     "name": "stdout",
     "output_type": "stream",
     "text": [
      "9\n",
      "256\n"
     ]
    }
   ],
   "source": [
    "#Exponent Function:\n",
    "#Raise to power function\n",
    "\n",
    "def raise_to_power(base_num, pow_num):\n",
    "    result = 1\n",
    "    for index in range(pow_num):\n",
    "        result = result * base_num\n",
    "    return result\n",
    "\n",
    "print(raise_to_power(3, 2))\n",
    "print(raise_to_power(4, 4))"
   ]
  },
  {
   "cell_type": "code",
   "execution_count": 7,
   "metadata": {},
   "outputs": [
    {
     "name": "stdout",
     "output_type": "stream",
     "text": [
      "1\n",
      "2\n",
      "3\n",
      "4\n",
      "5\n",
      "6\n",
      "7\n",
      "8\n",
      "9\n",
      "0\n"
     ]
    }
   ],
   "source": [
    "#2D Lists and Nested loops:\n",
    "\n",
    "number_grid = [\n",
    "    [1, 2, 3],\n",
    "    [4, 5, 6],\n",
    "    [7, 8, 9],\n",
    "    [0]\n",
    "]\n",
    "\n",
    "for row in number_grid:\n",
    "    for col in row:\n",
    "        print(col)"
   ]
  },
  {
   "cell_type": "code",
   "execution_count": 8,
   "metadata": {},
   "outputs": [
    {
     "name": "stdout",
     "output_type": "stream",
     "text": [
      "Enter a phrase: the quick brown fox jumps over the lazy dog\n",
      "thg qggck brgwn fgx jgmps gvgr thg lgzy dgg\n"
     ]
    }
   ],
   "source": [
    "#Building a Translator (Tutorial 25)\n",
    "#Translation (changing vowels to \"g\")\n",
    "\n",
    "def translate(phrase):\n",
    "    translation = \"\"\n",
    "    for letter in phrase:\n",
    "        if letter in \"AEIOUaeiou\":\n",
    "            translation = translation + \"g\"\n",
    "        else:\n",
    "            translation = translation + letter\n",
    "    return translation\n",
    "\n",
    "print(translate(input(\"Enter a phrase: \")))\n"
   ]
  },
  {
   "cell_type": "code",
   "execution_count": null,
   "metadata": {},
   "outputs": [],
   "source": [
    "#Try / Except (Tutorial 27)\n",
    "#Except function ignores error but displays a certian message instead of a error\n",
    "try:\n",
    "    number = int(input(\"Enter a Number: \"))\n",
    "    print(number)\n",
    "\n",
    "except:\n",
    "    print(\"Invalid Number\")"
   ]
  },
  {
   "cell_type": "code",
   "execution_count": null,
   "metadata": {},
   "outputs": [],
   "source": []
  }
 ],
 "metadata": {
  "kernelspec": {
   "display_name": "Python 3",
   "language": "python",
   "name": "python3"
  },
  "language_info": {
   "codemirror_mode": {
    "name": "ipython",
    "version": 3
   },
   "file_extension": ".py",
   "mimetype": "text/x-python",
   "name": "python",
   "nbconvert_exporter": "python",
   "pygments_lexer": "ipython3",
   "version": "3.7.0"
  }
 },
 "nbformat": 4,
 "nbformat_minor": 2
}
